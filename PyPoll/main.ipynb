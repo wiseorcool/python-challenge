{
 "cells": [
  {
   "cell_type": "code",
   "execution_count": 63,
   "metadata": {},
   "outputs": [],
   "source": [
    "import pandas as pd\n",
    "from pathlib import Path\n",
    "import os\n",
    "import csv\n",
    "\n"
   ]
  },
  {
   "cell_type": "code",
   "execution_count": 64,
   "metadata": {},
   "outputs": [
    {
     "name": "stdout",
     "output_type": "stream",
     "text": [
      "<_csv.reader object at 0x12fb760a0>\n",
      "CSV Header: ['Ballot ID', 'County', 'Candidate']\n",
      "Election Results\n",
      "-------------------------\n",
      "Total Votes: 369711\n",
      "-------------------------\n",
      "Charles Casper Stockham: 23.049% (85213)\n",
      "Diana DeGette: 73.812% (272892)\n",
      "Raymon Anthony Doane: 3.139% (11606)\n",
      "-------------------------\n",
      "Winner: Diana DeGette\n"
     ]
    }
   ],
   "source": [
    "\n",
    "csvpath = os.path.join( 'Resources', 'election_data.csv')\n",
    "\n",
    "\n",
    "with open(csvpath) as csvfile:\n",
    "\n",
    "    # CSV reader specifies delimiter and variable that holds contents\n",
    "    csvreader = csv.reader(csvfile, delimiter=',')\n",
    "\n",
    "    print(csvreader)\n",
    "\n",
    "    # # Read the header row first (skip this step if there is no header)\n",
    "    csv_header = next(csvreader)\n",
    "    print(f\"CSV Header: {csv_header}\")\n",
    "\n",
    "    total_votes=0\n",
    "    candiateVoteCount={}\n",
    "    winnerVoteCount=0\n",
    "    winningCandiate=\"\"\n",
    "    for row in csvreader:\n",
    "        total_votes += 1\n",
    "        candidateName = row[2]\n",
    "  \n",
    "\n",
    "        if candidateName not in candiateVoteCount:\n",
    "            candiateVoteCount[candidateName] = 0\n",
    "\n",
    "        candiateVoteCount[candidateName] += 1\n",
    "\n",
    "\n",
    "    \n",
    "\n",
    "\n",
    "print(\"Election Results\")\n",
    "print(\"-------------------------\")\n",
    "print(f\"Total Votes: {total_votes}\")\n",
    "print(\"-------------------------\")\n",
    "# print(candiateVoteCount)\n",
    "\n",
    "for candidate, votess in candiateVoteCount.items():\n",
    "    percentage= (votess/total_votes)*100\n",
    "    print(f\"{candidate}: {percentage:.3f}% ({votess})\")\n",
    "\n",
    "    if winnerVoteCount < votess:\n",
    "        winningCandiate = candidate\n",
    "        winnerVoteCount = votess\n",
    "\n",
    "print(\"-------------------------\")\n",
    "print(f\"Winner: {winningCandiate}\")\n",
    "\n",
    "\n",
    "\n",
    "# Write the election analysis to text file for Pypoll\n",
    "with open(\"analysis/election_analysis.txt\", \"w\") as analysis_file:\n",
    "    analysis_file.write(\"Election Analysis\\n\")\n",
    "    analysis_file.write(\"----------------------------\\n\")\n",
    "    analysis_file.write(f\"Total Votes: {total_votes}\\n\")\n",
    "    analysis_file.write(\"----------------------------\\n\")\n",
    "    for candidate, votess in candiateVoteCount.items():\n",
    "        percentage = (votess/total_votes)*100\n",
    "        analysis_file.write(f\"{candidate}: {percentage:.3f}% ({votess})\\n\")\n",
    "    analysis_file.write(\"----------------------------\\n\")\n",
    "    analysis_file.write(f\"Winner: {winningCandiate}\\n\")\n",
    "\n",
    "    "
   ]
  }
 ],
 "metadata": {
  "kernelspec": {
   "display_name": "notebook",
   "language": "python",
   "name": "python3"
  },
  "language_info": {
   "codemirror_mode": {
    "name": "ipython",
    "version": 3
   },
   "file_extension": ".py",
   "mimetype": "text/x-python",
   "name": "python",
   "nbconvert_exporter": "python",
   "pygments_lexer": "ipython3",
   "version": "3.11.9"
  }
 },
 "nbformat": 4,
 "nbformat_minor": 2
}
