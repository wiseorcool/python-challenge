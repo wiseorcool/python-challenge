{
 "cells": [
  {
   "cell_type": "code",
   "execution_count": 4,
   "metadata": {},
   "outputs": [],
   "source": [
    "import pandas as pd\n",
    "from pathlib import Path\n",
    "import os\n",
    "import csv\n"
   ]
  },
  {
   "cell_type": "code",
   "execution_count": 23,
   "metadata": {},
   "outputs": [
    {
     "name": "stdout",
     "output_type": "stream",
     "text": [
      "<_csv.reader object at 0x11e039690>\n",
      "CSV Header: ['Date', 'Profit/Losses']\n",
      "86\n",
      "22564198\n"
     ]
    }
   ],
   "source": [
    "\n",
    "\n",
    "csvpath = os.path.join( 'Resources', 'budget_data.csv')\n",
    "\n",
    "\n",
    "with open(csvpath) as csvfile:\n",
    "\n",
    "    # CSV reader specifies delimiter and variable that holds contents\n",
    "    csvreader = csv.reader(csvfile, delimiter=',')\n",
    "\n",
    "    print(csvreader)\n",
    "\n",
    "    # # Read the header row first (skip this step if there is no header)\n",
    "    csv_header = next(csvreader)\n",
    "    print(f\"CSV Header: {csv_header}\")\n",
    "\n",
    "    # # Read each row of data after the header\n",
    "\n",
    "    total_month_count=0\n",
    "    total_profit_loss=0\n",
    "    change_profil_loss=0\n",
    "    previous_profit_loss=0\n",
    "    current_profit_loss=0\n",
    "\n",
    "    for row in csvreader:\n",
    "        total_month_count += 1\n",
    "\n",
    "        # print(row[1])\n",
    "        total_profit_loss += int(row[1])\n",
    "\n",
    "        change_profil_loss += int(row[1])\n",
    "\n",
    "        if total_month_count > 1:\n",
    "            current_profit_loss=row[1]\n",
    "        previous_profit_loss=\n",
    "\n",
    "\n",
    "\n",
    "\n",
    "    print(total_month_count)\n",
    "    print(total_profit_loss)\n",
    "\n",
    "\n",
    "\n",
    "# Your task is to create a Python script that analyzes the records to calculate each of the following values:\n",
    "\n",
    "# The total number of months included in the dataset\n",
    "\n",
    "# The net total amount of \"Profit/Losses\" over the entire period\n",
    "\n",
    "# The changes in \"Profit/Losses\" over the entire period, and then the average of those changes\n",
    "\n",
    "# The greatest increase in profits (date and amount) over the entire period\n",
    "\n",
    "# The greatest decrease in profits (date and amount) over the entire period\n"
   ]
  },
  {
   "cell_type": "code",
   "execution_count": 2,
   "metadata": {},
   "outputs": [
    {
     "name": "stdout",
     "output_type": "stream",
     "text": [
      "<class 'pandas.core.frame.DataFrame'>\n",
      "RangeIndex: 86 entries, 0 to 85\n",
      "Data columns (total 2 columns):\n",
      " #   Column         Non-Null Count  Dtype \n",
      "---  ------         --------------  ----- \n",
      " 0   Date           86 non-null     object\n",
      " 1   Profit/Losses  86 non-null     int64 \n",
      "dtypes: int64(1), object(1)\n",
      "memory usage: 1.5+ KB\n"
     ]
    }
   ],
   "source": []
  },
  {
   "cell_type": "code",
   "execution_count": 6,
   "metadata": {},
   "outputs": [
    {
     "name": "stdout",
     "output_type": "stream",
     "text": [
      "Financial Analysis\n",
      "-----------------------------------\n"
     ]
    }
   ],
   "source": [
    "# The total number of months\n",
    "\n",
    "print(\"Financial Analysis\")\n",
    "print(\"-----------------------------------\")\n",
    "\n",
    "\n",
    "\n",
    "\n",
    "# election_data_df.pivot_table()"
   ]
  },
  {
   "cell_type": "code",
   "execution_count": 4,
   "metadata": {},
   "outputs": [
    {
     "data": {
      "text/plain": [
       "22564198"
      ]
     },
     "execution_count": 4,
     "metadata": {},
     "output_type": "execute_result"
    }
   ],
   "source": [
    "# The net total amount of \"Profit/Losses\" over the entire period\n",
    "\n",
    "budget_data_df['Profit/Losses'].sum()\n"
   ]
  },
  {
   "cell_type": "code",
   "execution_count": 5,
   "metadata": {},
   "outputs": [],
   "source": [
    "# The net total amount of \"Profit/Losses\" over the entire period\n",
    "\n"
   ]
  },
  {
   "cell_type": "code",
   "execution_count": null,
   "metadata": {},
   "outputs": [],
   "source": [
    "\n",
    "\n"
   ]
  },
  {
   "cell_type": "code",
   "execution_count": null,
   "metadata": {},
   "outputs": [],
   "source": []
  }
 ],
 "metadata": {
  "kernelspec": {
   "display_name": "notebook",
   "language": "python",
   "name": "python3"
  },
  "language_info": {
   "codemirror_mode": {
    "name": "ipython",
    "version": 3
   },
   "file_extension": ".py",
   "mimetype": "text/x-python",
   "name": "python",
   "nbconvert_exporter": "python",
   "pygments_lexer": "ipython3",
   "version": "3.11.7"
  }
 },
 "nbformat": 4,
 "nbformat_minor": 2
}
