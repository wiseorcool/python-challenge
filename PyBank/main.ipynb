{
 "cells": [
  {
   "cell_type": "code",
   "execution_count": 40,
   "metadata": {},
   "outputs": [],
   "source": [
    "import pandas as pd\n",
    "from pathlib import Path\n",
    "import os\n",
    "import csv\n"
   ]
  },
  {
   "cell_type": "code",
   "execution_count": 42,
   "metadata": {},
   "outputs": [
    {
     "name": "stdout",
     "output_type": "stream",
     "text": [
      "<_csv.reader object at 0x11af6f4c0>\n",
      "CSV Header: ['Date', 'Profit/Losses']\n",
      "Financial Analysis\n",
      "----------------------------\n",
      "Total Months: 86\n",
      "Total: $22564198.00\n",
      "Average Change: $-8311.11\n",
      "Greatest Increase in Profits: Aug-16 ($1862002)\n",
      "Greatest Decrease in Profits: Feb-14 ($-1825558)\n"
     ]
    }
   ],
   "source": [
    "\n",
    "\n",
    "csvpath = os.path.join( 'Resources', 'budget_data.csv')\n",
    "\n",
    "\n",
    "with open(csvpath) as csvfile:\n",
    "\n",
    "    # CSV reader specifies delimiter and variable that holds contents\n",
    "    csvreader = csv.reader(csvfile, delimiter=',')\n",
    "\n",
    "    print(csvreader)\n",
    "\n",
    "    # # Read the header row first (skip this step if there is no header)\n",
    "    csv_header = next(csvreader)\n",
    "    print(f\"CSV Header: {csv_header}\")\n",
    "\n",
    "   \n",
    "# Set initial value to the variable used inside the code\n",
    "    total_month_count=0\n",
    "    total_profit_loss=0\n",
    "    change_profil_loss=0\n",
    "    previous_profit_loss=0\n",
    "    current_profit_loss=0\n",
    "    average_Change=0\n",
    "    greatest_increase=[\"\",0]\n",
    "    greatest_decrease=[\"\",0]\n",
    "\n",
    "    for row in csvreader:\n",
    "        # print(row)\n",
    "        # calculated the total number of months \n",
    "        total_month_count += 1\n",
    "\n",
    "        # print(row[1])\n",
    "        # calculated the total profit in all different months\n",
    "        total_profit_loss += int(row[1])\n",
    "\n",
    "        \n",
    "        #calcualte the greatest changes and the lowest change in profit month over month\n",
    "        if total_month_count > 1:\n",
    "            \n",
    "            current_profit_loss = int(row[1])\n",
    "            change = (current_profit_loss - previous_profit_loss)\n",
    "            change_profil_loss += change\n",
    "\n",
    "\n",
    "            if change > greatest_increase[1]:\n",
    "                greatest_increase = [row[0], change]\n",
    "\n",
    "            if change < greatest_decrease[1]:\n",
    "                greatest_decrease= [row[0], change]\n",
    "\n",
    "        \n",
    "        previous_profit_loss= int(row[1])\n",
    "    #calculates average profit i.e. total profit by number of months(less one month as this is for a sample),\n",
    "    average_Change=(change_profil_loss/(total_month_count-1))\n",
    "    # Prints the financial analysis for PyBank\n",
    "\n",
    "    print(\"Financial Analysis\")\n",
    "    print(\"----------------------------\")\n",
    "    print(f\"Total Months: {total_month_count}\")\n",
    "    print(f\"Total: ${total_profit_loss:.2f}\")\n",
    "    print(f\"Average Change: ${average_Change:.2f}\")\n",
    "    print(f\"Greatest Increase in Profits: {greatest_increase[0]} (${greatest_increase[1]})\")\n",
    "    print(f\"Greatest Decrease in Profits: {greatest_decrease[0]} (${greatest_decrease[1]})\")\n",
    "\n",
    "# Write the financial analysis to text file for PyBank\n",
    "with open(\"analysis/financial_analysis.txt\", \"w\") as analysis_file:\n",
    "    analysis_file.write(\"Financial Analysis\\n\")\n",
    "    analysis_file.write(\"----------------------------\\n\")\n",
    "    analysis_file.write(f\"Total Months: {total_month_count}\\n\")\n",
    "    analysis_file.write(f\"Total: ${total_profit_loss:.2f}\\n\")\n",
    "    analysis_file.write(f\"Average Change: ${average_Change:.2f}\\n\")\n",
    "    analysis_file.write(f\"Greatest Increase in Profits: {greatest_increase[0]} (${greatest_increase[1]})\\n\")\n",
    "    analysis_file.write(f\"Greatest Decrease in Profits: {greatest_decrease[0]} (${greatest_decrease[1]})\\n\")"
   ]
  }
 ],
 "metadata": {
  "kernelspec": {
   "display_name": "notebook",
   "language": "python",
   "name": "python3"
  },
  "language_info": {
   "codemirror_mode": {
    "name": "ipython",
    "version": 3
   },
   "file_extension": ".py",
   "mimetype": "text/x-python",
   "name": "python",
   "nbconvert_exporter": "python",
   "pygments_lexer": "ipython3",
   "version": "3.11.9"
  }
 },
 "nbformat": 4,
 "nbformat_minor": 2
}
